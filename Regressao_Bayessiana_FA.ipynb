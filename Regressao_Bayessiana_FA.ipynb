{
 "cells": [
  {
   "cell_type": "code",
   "execution_count": 9,
   "id": "f36ee516",
   "metadata": {},
   "outputs": [
    {
     "name": "stdout",
     "output_type": "stream",
     "text": [
      "Versão da Linguagem Python: 3.10.9\n"
     ]
    }
   ],
   "source": [
    "# Versão da Linguagem Python\n",
    "from platform import python_version\n",
    "print('Versão da Linguagem Python:', python_version())"
   ]
  },
  {
   "cell_type": "code",
   "execution_count": 2,
   "id": "e6bb0ecd",
   "metadata": {},
   "outputs": [],
   "source": [
    "# Imports\n",
    "import pandas as pd\n",
    "import numpy as np\n",
    "import pymc3 as pm\n",
    "import warnings\n",
    "warnings.filterwarnings('ignore')"
   ]
  },
  {
   "cell_type": "code",
   "execution_count": 10,
   "id": "cf6c72ac",
   "metadata": {},
   "outputs": [
    {
     "name": "stdout",
     "output_type": "stream",
     "text": [
      "Author: José Guilherme Daufenbach Júnior\n",
      "\n",
      "pymc3 : 3.11.5\n",
      "pandas: 2.0.2\n",
      "numpy : 1.22.1\n",
      "\n"
     ]
    }
   ],
   "source": [
    "# Versões dos pacotes usados neste jupyter notebook\n",
    "%reload_ext watermark\n",
    "%watermark -a \"José Guilherme Daufenbach Júnior\" --iversions"
   ]
  },
  {
   "cell_type": "code",
   "execution_count": 4,
   "id": "c2d8b5c9",
   "metadata": {},
   "outputs": [],
   "source": [
    "# Carregar o dataset de investimentos\n",
    "dados_investimentos = pd.read_csv('dados/dados_investimentos.csv', index_col = 0, parse_dates = True)"
   ]
  },
  {
   "cell_type": "code",
   "execution_count": 5,
   "id": "92c68967",
   "metadata": {},
   "outputs": [
    {
     "data": {
      "text/plain": [
       "(365, 6)"
      ]
     },
     "execution_count": 5,
     "metadata": {},
     "output_type": "execute_result"
    }
   ],
   "source": [
    "dados_investimentos.shape\n"
   ]
  },
  {
   "cell_type": "code",
   "execution_count": 6,
   "id": "6982a347",
   "metadata": {},
   "outputs": [
    {
     "data": {
      "text/html": [
       "<div>\n",
       "<style scoped>\n",
       "    .dataframe tbody tr th:only-of-type {\n",
       "        vertical-align: middle;\n",
       "    }\n",
       "\n",
       "    .dataframe tbody tr th {\n",
       "        vertical-align: top;\n",
       "    }\n",
       "\n",
       "    .dataframe thead th {\n",
       "        text-align: right;\n",
       "    }\n",
       "</style>\n",
       "<table border=\"1\" class=\"dataframe\">\n",
       "  <thead>\n",
       "    <tr style=\"text-align: right;\">\n",
       "      <th></th>\n",
       "      <th>Ações</th>\n",
       "      <th>Títulos Públicos</th>\n",
       "      <th>Fundos Imobiliários</th>\n",
       "      <th>Rendimento Ações</th>\n",
       "      <th>Rendimento Títulos Públicos</th>\n",
       "      <th>Rendimento Fundos Imobiliários</th>\n",
       "    </tr>\n",
       "  </thead>\n",
       "  <tbody>\n",
       "    <tr>\n",
       "      <th>2022-01-01</th>\n",
       "      <td>-0.017334</td>\n",
       "      <td>-0.048899</td>\n",
       "      <td>0.510967</td>\n",
       "      <td>NaN</td>\n",
       "      <td>NaN</td>\n",
       "      <td>NaN</td>\n",
       "    </tr>\n",
       "    <tr>\n",
       "      <th>2022-01-02</th>\n",
       "      <td>0.435083</td>\n",
       "      <td>-0.159320</td>\n",
       "      <td>-0.189749</td>\n",
       "      <td>-26.099910</td>\n",
       "      <td>2.258122</td>\n",
       "      <td>-1.371353</td>\n",
       "    </tr>\n",
       "    <tr>\n",
       "      <th>2022-01-03</th>\n",
       "      <td>0.196220</td>\n",
       "      <td>-0.101227</td>\n",
       "      <td>0.159899</td>\n",
       "      <td>-0.549005</td>\n",
       "      <td>-0.364632</td>\n",
       "      <td>-1.842684</td>\n",
       "    </tr>\n",
       "    <tr>\n",
       "      <th>2022-01-04</th>\n",
       "      <td>0.023019</td>\n",
       "      <td>0.072812</td>\n",
       "      <td>-0.402519</td>\n",
       "      <td>-0.882688</td>\n",
       "      <td>-1.719296</td>\n",
       "      <td>-3.517339</td>\n",
       "    </tr>\n",
       "    <tr>\n",
       "      <th>2022-01-05</th>\n",
       "      <td>0.103289</td>\n",
       "      <td>0.136370</td>\n",
       "      <td>0.192497</td>\n",
       "      <td>3.487111</td>\n",
       "      <td>0.872901</td>\n",
       "      <td>-1.478231</td>\n",
       "    </tr>\n",
       "  </tbody>\n",
       "</table>\n",
       "</div>"
      ],
      "text/plain": [
       "               Ações  Títulos Públicos  Fundos Imobiliários  Rendimento Ações  \\\n",
       "2022-01-01 -0.017334         -0.048899             0.510967               NaN   \n",
       "2022-01-02  0.435083         -0.159320            -0.189749        -26.099910   \n",
       "2022-01-03  0.196220         -0.101227             0.159899         -0.549005   \n",
       "2022-01-04  0.023019          0.072812            -0.402519         -0.882688   \n",
       "2022-01-05  0.103289          0.136370             0.192497          3.487111   \n",
       "\n",
       "            Rendimento Títulos Públicos  Rendimento Fundos Imobiliários  \n",
       "2022-01-01                          NaN                             NaN  \n",
       "2022-01-02                     2.258122                       -1.371353  \n",
       "2022-01-03                    -0.364632                       -1.842684  \n",
       "2022-01-04                    -1.719296                       -3.517339  \n",
       "2022-01-05                     0.872901                       -1.478231  "
      ]
     },
     "execution_count": 6,
     "metadata": {},
     "output_type": "execute_result"
    }
   ],
   "source": [
    "dados_investimentos.head()"
   ]
  },
  {
   "cell_type": "code",
   "execution_count": 7,
   "id": "90d0c3bc",
   "metadata": {},
   "outputs": [],
   "source": [
    "dados = dados_investimentos[['Rendimento Fundos Imobiliários']]"
   ]
  },
  {
   "cell_type": "code",
   "execution_count": 8,
   "id": "50e6c521",
   "metadata": {},
   "outputs": [
    {
     "data": {
      "text/html": [
       "<div>\n",
       "<style scoped>\n",
       "    .dataframe tbody tr th:only-of-type {\n",
       "        vertical-align: middle;\n",
       "    }\n",
       "\n",
       "    .dataframe tbody tr th {\n",
       "        vertical-align: top;\n",
       "    }\n",
       "\n",
       "    .dataframe thead th {\n",
       "        text-align: right;\n",
       "    }\n",
       "</style>\n",
       "<table border=\"1\" class=\"dataframe\">\n",
       "  <thead>\n",
       "    <tr style=\"text-align: right;\">\n",
       "      <th></th>\n",
       "      <th>Rendimento Fundos Imobiliários</th>\n",
       "    </tr>\n",
       "  </thead>\n",
       "  <tbody>\n",
       "    <tr>\n",
       "      <th>2022-01-01</th>\n",
       "      <td>NaN</td>\n",
       "    </tr>\n",
       "    <tr>\n",
       "      <th>2022-01-02</th>\n",
       "      <td>-1.371353</td>\n",
       "    </tr>\n",
       "    <tr>\n",
       "      <th>2022-01-03</th>\n",
       "      <td>-1.842684</td>\n",
       "    </tr>\n",
       "    <tr>\n",
       "      <th>2022-01-04</th>\n",
       "      <td>-3.517339</td>\n",
       "    </tr>\n",
       "    <tr>\n",
       "      <th>2022-01-05</th>\n",
       "      <td>-1.478231</td>\n",
       "    </tr>\n",
       "  </tbody>\n",
       "</table>\n",
       "</div>"
      ],
      "text/plain": [
       "            Rendimento Fundos Imobiliários\n",
       "2022-01-01                             NaN\n",
       "2022-01-02                       -1.371353\n",
       "2022-01-03                       -1.842684\n",
       "2022-01-04                       -3.517339\n",
       "2022-01-05                       -1.478231"
      ]
     },
     "execution_count": 8,
     "metadata": {},
     "output_type": "execute_result"
    }
   ],
   "source": [
    "dados.head()"
   ]
  },
  {
   "cell_type": "code",
   "execution_count": 11,
   "id": "4593210a",
   "metadata": {},
   "outputs": [],
   "source": [
    "deslocamento = 5\n",
    "dados['Rendimento Fundos Imobiliários (t-5)'] = dados['Rendimento Fundos Imobiliários'].shift(deslocamento)"
   ]
  },
  {
   "cell_type": "code",
   "execution_count": 12,
   "id": "7634cee3",
   "metadata": {},
   "outputs": [
    {
     "data": {
      "text/html": [
       "<div>\n",
       "<style scoped>\n",
       "    .dataframe tbody tr th:only-of-type {\n",
       "        vertical-align: middle;\n",
       "    }\n",
       "\n",
       "    .dataframe tbody tr th {\n",
       "        vertical-align: top;\n",
       "    }\n",
       "\n",
       "    .dataframe thead th {\n",
       "        text-align: right;\n",
       "    }\n",
       "</style>\n",
       "<table border=\"1\" class=\"dataframe\">\n",
       "  <thead>\n",
       "    <tr style=\"text-align: right;\">\n",
       "      <th></th>\n",
       "      <th>Rendimento Fundos Imobiliários</th>\n",
       "      <th>Rendimento Fundos Imobiliários (t-5)</th>\n",
       "    </tr>\n",
       "  </thead>\n",
       "  <tbody>\n",
       "    <tr>\n",
       "      <th>2022-01-01</th>\n",
       "      <td>NaN</td>\n",
       "      <td>NaN</td>\n",
       "    </tr>\n",
       "    <tr>\n",
       "      <th>2022-01-02</th>\n",
       "      <td>-1.371353</td>\n",
       "      <td>NaN</td>\n",
       "    </tr>\n",
       "    <tr>\n",
       "      <th>2022-01-03</th>\n",
       "      <td>-1.842684</td>\n",
       "      <td>NaN</td>\n",
       "    </tr>\n",
       "    <tr>\n",
       "      <th>2022-01-04</th>\n",
       "      <td>-3.517339</td>\n",
       "      <td>NaN</td>\n",
       "    </tr>\n",
       "    <tr>\n",
       "      <th>2022-01-05</th>\n",
       "      <td>-1.478231</td>\n",
       "      <td>NaN</td>\n",
       "    </tr>\n",
       "  </tbody>\n",
       "</table>\n",
       "</div>"
      ],
      "text/plain": [
       "            Rendimento Fundos Imobiliários  \\\n",
       "2022-01-01                             NaN   \n",
       "2022-01-02                       -1.371353   \n",
       "2022-01-03                       -1.842684   \n",
       "2022-01-04                       -3.517339   \n",
       "2022-01-05                       -1.478231   \n",
       "\n",
       "            Rendimento Fundos Imobiliários (t-5)  \n",
       "2022-01-01                                   NaN  \n",
       "2022-01-02                                   NaN  \n",
       "2022-01-03                                   NaN  \n",
       "2022-01-04                                   NaN  \n",
       "2022-01-05                                   NaN  "
      ]
     },
     "execution_count": 12,
     "metadata": {},
     "output_type": "execute_result"
    }
   ],
   "source": [
    "dados.head()"
   ]
  },
  {
   "cell_type": "code",
   "execution_count": 13,
   "id": "6bea9e4f",
   "metadata": {},
   "outputs": [
    {
     "data": {
      "text/html": [
       "<div>\n",
       "<style scoped>\n",
       "    .dataframe tbody tr th:only-of-type {\n",
       "        vertical-align: middle;\n",
       "    }\n",
       "\n",
       "    .dataframe tbody tr th {\n",
       "        vertical-align: top;\n",
       "    }\n",
       "\n",
       "    .dataframe thead th {\n",
       "        text-align: right;\n",
       "    }\n",
       "</style>\n",
       "<table border=\"1\" class=\"dataframe\">\n",
       "  <thead>\n",
       "    <tr style=\"text-align: right;\">\n",
       "      <th></th>\n",
       "      <th>Rendimento Fundos Imobiliários</th>\n",
       "      <th>Rendimento Fundos Imobiliários (t-5)</th>\n",
       "    </tr>\n",
       "  </thead>\n",
       "  <tbody>\n",
       "    <tr>\n",
       "      <th>2022-12-27</th>\n",
       "      <td>-0.104117</td>\n",
       "      <td>-4.930165</td>\n",
       "    </tr>\n",
       "    <tr>\n",
       "      <th>2022-12-28</th>\n",
       "      <td>-1.485806</td>\n",
       "      <td>-1.328787</td>\n",
       "    </tr>\n",
       "    <tr>\n",
       "      <th>2022-12-29</th>\n",
       "      <td>0.113994</td>\n",
       "      <td>-1.616446</td>\n",
       "    </tr>\n",
       "    <tr>\n",
       "      <th>2022-12-30</th>\n",
       "      <td>-2.652999</td>\n",
       "      <td>-2.591367</td>\n",
       "    </tr>\n",
       "    <tr>\n",
       "      <th>2022-12-31</th>\n",
       "      <td>-1.680685</td>\n",
       "      <td>-3.610346</td>\n",
       "    </tr>\n",
       "  </tbody>\n",
       "</table>\n",
       "</div>"
      ],
      "text/plain": [
       "            Rendimento Fundos Imobiliários  \\\n",
       "2022-12-27                       -0.104117   \n",
       "2022-12-28                       -1.485806   \n",
       "2022-12-29                        0.113994   \n",
       "2022-12-30                       -2.652999   \n",
       "2022-12-31                       -1.680685   \n",
       "\n",
       "            Rendimento Fundos Imobiliários (t-5)  \n",
       "2022-12-27                             -4.930165  \n",
       "2022-12-28                             -1.328787  \n",
       "2022-12-29                             -1.616446  \n",
       "2022-12-30                             -2.591367  \n",
       "2022-12-31                             -3.610346  "
      ]
     },
     "execution_count": 13,
     "metadata": {},
     "output_type": "execute_result"
    }
   ],
   "source": [
    "dados.tail()"
   ]
  },
  {
   "cell_type": "code",
   "execution_count": 19,
   "id": "81930a0d",
   "metadata": {},
   "outputs": [],
   "source": [
    "dados.rename(columns={'Rendimento Fundos Imobiliários': 'Rendimentos',\n",
    "                      'Rendimento Fundos Imobiliários (t-5)': 'Rendimentos(t-5)'}, inplace=True)"
   ]
  },
  {
   "cell_type": "code",
   "execution_count": 20,
   "id": "6a2a51ad",
   "metadata": {},
   "outputs": [
    {
     "data": {
      "text/html": [
       "<div>\n",
       "<style scoped>\n",
       "    .dataframe tbody tr th:only-of-type {\n",
       "        vertical-align: middle;\n",
       "    }\n",
       "\n",
       "    .dataframe tbody tr th {\n",
       "        vertical-align: top;\n",
       "    }\n",
       "\n",
       "    .dataframe thead th {\n",
       "        text-align: right;\n",
       "    }\n",
       "</style>\n",
       "<table border=\"1\" class=\"dataframe\">\n",
       "  <thead>\n",
       "    <tr style=\"text-align: right;\">\n",
       "      <th></th>\n",
       "      <th>Rendimentos</th>\n",
       "      <th>Rendimentos(t-5)</th>\n",
       "    </tr>\n",
       "  </thead>\n",
       "  <tbody>\n",
       "    <tr>\n",
       "      <th>2022-01-01</th>\n",
       "      <td>NaN</td>\n",
       "      <td>NaN</td>\n",
       "    </tr>\n",
       "    <tr>\n",
       "      <th>2022-01-02</th>\n",
       "      <td>-1.371353</td>\n",
       "      <td>NaN</td>\n",
       "    </tr>\n",
       "    <tr>\n",
       "      <th>2022-01-03</th>\n",
       "      <td>-1.842684</td>\n",
       "      <td>NaN</td>\n",
       "    </tr>\n",
       "    <tr>\n",
       "      <th>2022-01-04</th>\n",
       "      <td>-3.517339</td>\n",
       "      <td>NaN</td>\n",
       "    </tr>\n",
       "    <tr>\n",
       "      <th>2022-01-05</th>\n",
       "      <td>-1.478231</td>\n",
       "      <td>NaN</td>\n",
       "    </tr>\n",
       "  </tbody>\n",
       "</table>\n",
       "</div>"
      ],
      "text/plain": [
       "            Rendimentos  Rendimentos(t-5)\n",
       "2022-01-01          NaN               NaN\n",
       "2022-01-02    -1.371353               NaN\n",
       "2022-01-03    -1.842684               NaN\n",
       "2022-01-04    -3.517339               NaN\n",
       "2022-01-05    -1.478231               NaN"
      ]
     },
     "execution_count": 20,
     "metadata": {},
     "output_type": "execute_result"
    }
   ],
   "source": [
    "dados.head()"
   ]
  },
  {
   "cell_type": "code",
   "execution_count": 21,
   "id": "88c5395b",
   "metadata": {},
   "outputs": [],
   "source": [
    "dados.dropna(inplace=True)"
   ]
  },
  {
   "cell_type": "code",
   "execution_count": 22,
   "id": "82719c86",
   "metadata": {},
   "outputs": [
    {
     "data": {
      "text/html": [
       "<div>\n",
       "<style scoped>\n",
       "    .dataframe tbody tr th:only-of-type {\n",
       "        vertical-align: middle;\n",
       "    }\n",
       "\n",
       "    .dataframe tbody tr th {\n",
       "        vertical-align: top;\n",
       "    }\n",
       "\n",
       "    .dataframe thead th {\n",
       "        text-align: right;\n",
       "    }\n",
       "</style>\n",
       "<table border=\"1\" class=\"dataframe\">\n",
       "  <thead>\n",
       "    <tr style=\"text-align: right;\">\n",
       "      <th></th>\n",
       "      <th>Rendimentos</th>\n",
       "      <th>Rendimentos(t-5)</th>\n",
       "    </tr>\n",
       "  </thead>\n",
       "  <tbody>\n",
       "    <tr>\n",
       "      <th>2022-01-07</th>\n",
       "      <td>-3.025357</td>\n",
       "      <td>-1.371353</td>\n",
       "    </tr>\n",
       "    <tr>\n",
       "      <th>2022-01-08</th>\n",
       "      <td>-1.948727</td>\n",
       "      <td>-1.842684</td>\n",
       "    </tr>\n",
       "    <tr>\n",
       "      <th>2022-01-09</th>\n",
       "      <td>-0.055173</td>\n",
       "      <td>-3.517339</td>\n",
       "    </tr>\n",
       "    <tr>\n",
       "      <th>2022-01-10</th>\n",
       "      <td>-1.490320</td>\n",
       "      <td>-1.478231</td>\n",
       "    </tr>\n",
       "    <tr>\n",
       "      <th>2022-01-11</th>\n",
       "      <td>-3.540331</td>\n",
       "      <td>-0.196477</td>\n",
       "    </tr>\n",
       "  </tbody>\n",
       "</table>\n",
       "</div>"
      ],
      "text/plain": [
       "            Rendimentos  Rendimentos(t-5)\n",
       "2022-01-07    -3.025357         -1.371353\n",
       "2022-01-08    -1.948727         -1.842684\n",
       "2022-01-09    -0.055173         -3.517339\n",
       "2022-01-10    -1.490320         -1.478231\n",
       "2022-01-11    -3.540331         -0.196477"
      ]
     },
     "execution_count": 22,
     "metadata": {},
     "output_type": "execute_result"
    }
   ],
   "source": [
    "dados.head()"
   ]
  },
  {
   "cell_type": "code",
   "execution_count": 23,
   "id": "d448a11b",
   "metadata": {},
   "outputs": [],
   "source": [
    "#Divisão treino/teste\n",
    "dados_treino = dados.loc['2022-01-06':'2022-10-31']\n",
    "dados_teste = dados.loc['2022-11-01':'2022-12-31']"
   ]
  },
  {
   "cell_type": "markdown",
   "id": "1056129f",
   "metadata": {},
   "source": [
    "## *Modelo de regressão bayessiana:*"
   ]
  },
  {
   "cell_type": "code",
   "execution_count": 24,
   "id": "f574b6fa",
   "metadata": {},
   "outputs": [
    {
     "name": "stderr",
     "output_type": "stream",
     "text": [
      "Auto-assigning NUTS sampler...\n",
      "Initializing NUTS using jitter+adapt_diag...\n",
      "Multiprocess sampling (2 chains in 2 jobs)\n",
      "NUTS: [sigma, beta, alpha]\n"
     ]
    },
    {
     "data": {
      "text/html": [
       "\n",
       "<style>\n",
       "    /* Turns off some styling */\n",
       "    progress {\n",
       "        /* gets rid of default border in Firefox and Opera. */\n",
       "        border: none;\n",
       "        /* Needs to be in here for Safari polyfill so background images work as expected. */\n",
       "        background-size: auto;\n",
       "    }\n",
       "    progress:not([value]), progress:not([value])::-webkit-progress-bar {\n",
       "        background: repeating-linear-gradient(45deg, #7e7e7e, #7e7e7e 10px, #5c5c5c 10px, #5c5c5c 20px);\n",
       "    }\n",
       "    .progress-bar-interrupted, .progress-bar-interrupted::-webkit-progress-bar {\n",
       "        background: #F44336;\n",
       "    }\n",
       "</style>\n"
      ],
      "text/plain": [
       "<IPython.core.display.HTML object>"
      ]
     },
     "metadata": {},
     "output_type": "display_data"
    },
    {
     "data": {
      "text/html": [
       "\n",
       "    <div>\n",
       "      <progress value='4000' class='' max='4000' style='width:300px; height:20px; vertical-align: middle;'></progress>\n",
       "      100.00% [4000/4000 00:01&lt;00:00 Sampling 2 chains, 0 divergences]\n",
       "    </div>\n",
       "    "
      ],
      "text/plain": [
       "<IPython.core.display.HTML object>"
      ]
     },
     "metadata": {},
     "output_type": "display_data"
    },
    {
     "name": "stderr",
     "output_type": "stream",
     "text": [
      "Sampling 2 chains for 1_000 tune and 1_000 draw iterations (2_000 + 2_000 draws total) took 2 seconds.\n"
     ]
    }
   ],
   "source": [
    "# Inicia um novo modelo pymc3:\n",
    "with pm.Model() as modelo:\n",
    "    \n",
    "    #priors\n",
    "    alpha = pm.Normal('alpha', mu = 0, sd = 1)\n",
    "    beta = pm.Normal('beta', mu = 0, sd = 1)\n",
    "    sigma = pm.HalfNormal('sigma', sd = 1)\n",
    "    \n",
    "    #likelihood\n",
    "    mu = alpha + beta * dados_treino['Rendimentos(t-5)']\n",
    "    likehood = pm.Normal('y', mu = mu, sd = sigma, observed = dados_treino['Rendimentos'])\n",
    "    \n",
    "    #Inferência\n",
    "    trace = pm.sample(1000, tune = 1000)"
   ]
  },
  {
   "cell_type": "code",
   "execution_count": 25,
   "id": "3041949b",
   "metadata": {},
   "outputs": [
    {
     "data": {
      "text/html": [
       "\n",
       "<style>\n",
       "    /* Turns off some styling */\n",
       "    progress {\n",
       "        /* gets rid of default border in Firefox and Opera. */\n",
       "        border: none;\n",
       "        /* Needs to be in here for Safari polyfill so background images work as expected. */\n",
       "        background-size: auto;\n",
       "    }\n",
       "    progress:not([value]), progress:not([value])::-webkit-progress-bar {\n",
       "        background: repeating-linear-gradient(45deg, #7e7e7e, #7e7e7e 10px, #5c5c5c 10px, #5c5c5c 20px);\n",
       "    }\n",
       "    .progress-bar-interrupted, .progress-bar-interrupted::-webkit-progress-bar {\n",
       "        background: #F44336;\n",
       "    }\n",
       "</style>\n"
      ],
      "text/plain": [
       "<IPython.core.display.HTML object>"
      ]
     },
     "metadata": {},
     "output_type": "display_data"
    },
    {
     "data": {
      "text/html": [
       "\n",
       "    <div>\n",
       "      <progress value='1000' class='' max='1000' style='width:300px; height:20px; vertical-align: middle;'></progress>\n",
       "      100.00% [1000/1000 00:01&lt;00:00]\n",
       "    </div>\n",
       "    "
      ],
      "text/plain": [
       "<IPython.core.display.HTML object>"
      ]
     },
     "metadata": {},
     "output_type": "display_data"
    }
   ],
   "source": [
    "#Criando preditor\n",
    "\n",
    "rendimento_previsto = pm.sample_posterior_predictive(trace, \n",
    "                                                     samples = 1000, \n",
    "                                                     model = modelo,\n",
    "                                                     var_names = ['alpha', 'beta', 'sigma', 'y'])['y'].mean(axis = 0)"
   ]
  },
  {
   "cell_type": "code",
   "execution_count": 27,
   "id": "d39249f8",
   "metadata": {},
   "outputs": [
    {
     "data": {
      "text/plain": [
       "array([-1.70280495e-01,  8.95253564e-01,  6.79315474e-01,  2.25029494e-01,\n",
       "        1.05896205e+00, -1.34538325e-01, -3.55845742e-01,  2.18099217e-01,\n",
       "        1.93120597e-01,  8.71742002e-03, -4.04527704e-02,  4.45058023e-01,\n",
       "        4.13063566e-02, -3.78801188e-01,  8.81746475e-01,  6.24086412e-01,\n",
       "       -1.07182609e-01, -9.44023163e-01, -9.37154549e-01,  3.99257249e-01,\n",
       "       -2.13389125e-01,  7.40601325e-01, -4.19354373e-01, -4.65998149e-01,\n",
       "        1.40385577e-01,  5.64261462e-01,  3.92108822e-01,  8.34243812e-01,\n",
       "        7.17994450e-01,  8.69283416e-01,  3.46379148e-01,  4.38159026e-01,\n",
       "       -2.11477487e-02,  1.87382953e-01,  1.31606582e-01,  5.23998318e-02,\n",
       "        2.50268275e-01,  5.57519153e-01,  5.06342937e-01,  3.42061809e-01,\n",
       "       -4.35395632e-01, -9.47182300e-01, -1.74712600e-02,  2.55085110e-01,\n",
       "        2.56372328e-01,  8.79586958e-01,  1.02362535e+00,  1.41100643e+00,\n",
       "        5.18305213e-01, -3.04512701e-01,  5.07136398e-01,  4.85670765e-02,\n",
       "        5.57186019e-01,  5.81206147e-01,  4.41506663e-01, -3.17671932e-01,\n",
       "        2.51794281e-01, -1.74952072e-01,  8.03057990e-01, -5.88213504e-01,\n",
       "        5.70203357e-01,  6.05364373e-02, -5.95271273e-02,  8.84379606e-01,\n",
       "        4.05033277e-01,  1.00895838e+00,  3.80078450e-02, -1.13187207e-01,\n",
       "       -2.60076229e-01,  3.52244974e-01,  7.46034254e-01,  7.73885528e-01,\n",
       "       -1.13476004e-01,  3.34560406e-01, -1.19590533e-01, -1.37155593e-01,\n",
       "        6.05121847e-02, -2.08975067e-01,  8.00082097e-02,  2.57383635e-01,\n",
       "        4.14424593e-01,  6.28425048e-01,  5.97323390e-01,  1.41876449e-01,\n",
       "        2.45177287e-01,  5.52670283e-01, -1.10266635e-02,  3.96936906e-03,\n",
       "        1.01658129e-03,  8.09648604e-02,  9.87288599e-01,  6.62483689e-01,\n",
       "       -4.32304766e-01,  2.00276923e-01,  4.56136861e-01,  2.23179322e-01,\n",
       "        2.72297564e-01,  4.86329321e-01, -3.41589378e-02, -2.43235743e-01,\n",
       "       -4.37446226e-02, -5.08747755e-01, -1.29978711e-01,  7.14757232e-02,\n",
       "       -5.18879029e-01,  3.27828743e-01,  4.68011096e-01,  2.70661800e-01,\n",
       "        4.45216739e-01,  7.63671256e-01, -2.50744491e-01,  2.90414818e-01,\n",
       "        1.91335516e-03, -2.97966230e-01, -1.23890046e-01, -6.76828832e-01,\n",
       "        1.24956832e-01,  3.52261808e-01, -3.42882747e-01,  2.57345843e-01,\n",
       "        3.09690621e-01, -1.71186387e-01,  1.43017590e+00, -2.69156455e-01,\n",
       "        6.23348278e-02,  4.50466703e-01, -1.43348397e-01,  5.50796099e-02,\n",
       "       -7.13675937e-02,  7.98921455e-01,  6.37399079e-01,  2.34114940e-01,\n",
       "        6.97568251e-02,  3.12207463e-01,  4.94959112e-01,  5.42731273e-01,\n",
       "        4.55948929e-01,  3.05747897e-01,  4.74076387e-01,  7.09858830e-01,\n",
       "       -4.82242857e-01,  5.36212370e-01, -5.52832367e-01,  2.44203300e-01,\n",
       "        7.80849973e-01,  9.07380999e-02,  5.06599613e-01, -4.52548867e-01,\n",
       "        8.96186579e-01,  6.20356934e-01,  6.19024077e-01,  2.40625233e-01,\n",
       "       -1.89257472e-02,  6.95044344e-01, -4.83455904e-01, -8.26828680e-02,\n",
       "        9.56477073e-01, -1.27838474e-01, -7.86967475e-01,  5.37756631e-01,\n",
       "       -4.17218125e-01,  3.80570070e-01, -1.03974174e+00, -9.01165585e-02,\n",
       "        2.00603106e-01,  6.31208513e-03,  2.97604612e-01, -8.10164204e-01,\n",
       "        6.68796392e-01,  2.27020038e-01,  8.68255910e-01, -2.95475142e-01,\n",
       "        8.46389850e-02,  3.72277552e-01,  7.40734297e-02,  5.44715294e-01,\n",
       "        7.14777060e-02,  5.06623077e-01, -1.43792341e-01,  3.44996478e-01,\n",
       "        7.77207127e-01, -8.83351792e-02,  3.74892440e-01,  1.13252031e+00,\n",
       "        6.61008922e-01,  6.10965335e-01,  8.97260399e-02, -3.49742189e-02,\n",
       "        7.22347428e-01, -2.68146008e-02, -4.86974716e-01,  7.56414947e-01,\n",
       "        5.09551635e-01,  1.01635106e+00,  1.54104483e-01, -3.99771176e-01,\n",
       "        5.23891694e-01, -5.90726514e-01, -6.68457341e-01, -7.46913201e-02,\n",
       "       -5.42848992e-01,  1.24781188e+00,  6.71666837e-01,  4.75331270e-01,\n",
       "        6.28733964e-01, -2.22011763e-01, -7.24577019e-01,  9.59653480e-01,\n",
       "       -7.05700657e-03,  2.08847305e-02,  5.39060957e-01, -2.08367145e-01,\n",
       "        1.41903204e-01,  2.45020449e-01,  5.90363251e-01,  3.18262987e-01,\n",
       "        3.91647063e-01,  9.42283904e-02,  9.71461342e-01,  3.16411290e-01,\n",
       "       -2.92205586e-01,  4.63887138e-01, -7.73364657e-02, -9.94534760e-02,\n",
       "       -1.28251394e-01,  5.46146917e-01, -7.15508154e-01,  6.61803117e-01,\n",
       "        8.82529120e-01,  3.29395786e-01, -5.26477850e-01,  9.29200379e-01,\n",
       "       -4.21784015e-01,  5.72146979e-01, -6.88566689e-01,  3.92060527e-01,\n",
       "        7.65859092e-01, -8.25779849e-02, -8.79200903e-01, -3.45076487e-01,\n",
       "        9.22485063e-02,  5.46387861e-01,  5.29750325e-01,  6.09374003e-02,\n",
       "        5.81106862e-01,  1.14205704e+00,  6.34724550e-01,  1.30620434e+00,\n",
       "        4.07369551e-02,  4.35916576e-01, -4.04910860e-01,  6.36773898e-01,\n",
       "       -5.98041660e-01,  5.33625162e-01,  1.77407532e-01,  1.49895988e-01,\n",
       "       -4.74758839e-02,  7.75010972e-01, -7.27973717e-01, -1.06810973e-01,\n",
       "        6.92286305e-01, -1.25103497e-01,  2.28783486e-01, -2.87166600e-01,\n",
       "       -3.64730420e-01,  2.12531933e-01,  5.83797381e-01,  2.06168931e-01,\n",
       "       -1.96767904e-01, -2.33031442e-02,  1.77988419e-01,  5.40361772e-01,\n",
       "        6.76430138e-02,  4.42147258e-01,  8.68146982e-01, -3.85661407e-01,\n",
       "        7.02197918e-02,  6.15702214e-02,  1.17997980e-01,  1.79342740e-01,\n",
       "        7.67492531e-01, -1.32480266e-01, -2.40871095e-01,  6.61680427e-01,\n",
       "       -3.50103538e-01, -1.89673088e-01,  1.09254479e+00,  7.01954874e-01,\n",
       "        6.52171096e-01,  2.25261355e-01,  2.52573661e-02,  9.67284018e-02,\n",
       "        1.25793694e-01,  5.99069548e-01, -1.96911314e-01,  4.66528439e-02,\n",
       "       -1.39748434e-01, -2.22779609e-01])"
      ]
     },
     "execution_count": 27,
     "metadata": {},
     "output_type": "execute_result"
    }
   ],
   "source": [
    "rendimento_previsto"
   ]
  },
  {
   "cell_type": "code",
   "execution_count": 29,
   "id": "d95c7734",
   "metadata": {},
   "outputs": [],
   "source": [
    "n_dados = pd.read_csv('dados/novos_dados.csv', index_col = 0, parse_dates = True)"
   ]
  },
  {
   "cell_type": "code",
   "execution_count": 30,
   "id": "8cdd36cc",
   "metadata": {},
   "outputs": [],
   "source": [
    "n_dados_preditor = n_dados['Rendimento Fundos Imobiliários'].shift(5)"
   ]
  },
  {
   "cell_type": "code",
   "execution_count": 31,
   "id": "de1062ae",
   "metadata": {},
   "outputs": [],
   "source": [
    "n_dados_preditor = n_dados_preditor.dropna()"
   ]
  },
  {
   "cell_type": "code",
   "execution_count": 32,
   "id": "76319fa7",
   "metadata": {},
   "outputs": [],
   "source": [
    "with modelo:\n",
    "    alpha = trace['alpha'].mean()\n",
    "    beta = trace['beta'].mean()\n",
    "    \n",
    "    previsoes = alpha + beta * n_dados_preditor"
   ]
  },
  {
   "cell_type": "code",
   "execution_count": 34,
   "id": "679d9fcf",
   "metadata": {},
   "outputs": [
    {
     "name": "stdout",
     "output_type": "stream",
     "text": [
      "2023-01-07    0.243854\n",
      "2023-01-08    0.246773\n",
      "2023-01-09    0.249451\n",
      "2023-01-10    0.370407\n",
      "2023-01-11    0.244021\n",
      "                ...   \n",
      "2023-12-27    0.238750\n",
      "2023-12-28    0.239093\n",
      "2023-12-29    0.249185\n",
      "2023-12-30    0.304548\n",
      "2023-12-31    0.243404\n",
      "Name: Rendimento Fundos Imobiliários, Length: 359, dtype: float64\n"
     ]
    }
   ],
   "source": [
    "print(previsoes)"
   ]
  },
  {
   "cell_type": "code",
   "execution_count": null,
   "id": "911758f7",
   "metadata": {},
   "outputs": [],
   "source": []
  }
 ],
 "metadata": {
  "kernelspec": {
   "display_name": "Python 3 (ipykernel)",
   "language": "python",
   "name": "python3"
  },
  "language_info": {
   "codemirror_mode": {
    "name": "ipython",
    "version": 3
   },
   "file_extension": ".py",
   "mimetype": "text/x-python",
   "name": "python",
   "nbconvert_exporter": "python",
   "pygments_lexer": "ipython3",
   "version": "3.10.9"
  }
 },
 "nbformat": 4,
 "nbformat_minor": 5
}
